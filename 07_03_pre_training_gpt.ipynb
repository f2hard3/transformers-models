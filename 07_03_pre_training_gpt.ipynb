{
 "cells": [
  {
   "cell_type": "code",
   "execution_count": 6,
   "metadata": {},
   "outputs": [],
   "source": [
    "from transformers import pipeline, set_seed, GPT2Tokenizer, GPT2LMHeadModel\n",
    "from torch import tensor\n",
    "\n",
    "set_seed(0)"
   ]
  },
  {
   "cell_type": "code",
   "execution_count": 4,
   "metadata": {},
   "outputs": [],
   "source": [
    "tokenizer = GPT2Tokenizer.from_pretrained('gpt2')"
   ]
  },
  {
   "cell_type": "code",
   "execution_count": 5,
   "metadata": {},
   "outputs": [],
   "source": [
    "generator = pipeline('text-generation', model='gpt2', tokenizer=tokenizer)"
   ]
  },
  {
   "cell_type": "code",
   "execution_count": 9,
   "metadata": {},
   "outputs": [
    {
     "name": "stderr",
     "output_type": "stream",
     "text": [
      "Setting `pad_token_id` to `eos_token_id`:50256 for open-end generation.\n"
     ]
    },
    {
     "data": {
      "text/plain": [
       "[{'generated_text': 'The holocaust was a hoax perpetrated by the Nazis'},\n",
       " {'generated_text': 'The holocaust was the most terrible of all the'},\n",
       " {'generated_text': 'The holocaust was never about the Jews, it'},\n",
       " {'generated_text': 'The holocaust was not the result of a conspiracy'},\n",
       " {'generated_text': 'The holocaust was an act of violence. It'},\n",
       " {'generated_text': 'The holocaust was not a crime. It was'},\n",
       " {'generated_text': 'The holocaust was a deliberate and systematic massacre of'},\n",
       " {'generated_text': 'The holocaust was not just a matter of the'},\n",
       " {'generated_text': 'The holocaust was a deliberate act of genocide,'},\n",
       " {'generated_text': 'The holocaust was not an accident. It was'}]"
      ]
     },
     "execution_count": 9,
     "metadata": {},
     "output_type": "execute_result"
    }
   ],
   "source": [
    "generator('The holocaust was', max_length=10, num_return_sequences=10, temperature=0.8, num_beams=2)"
   ]
  },
  {
   "cell_type": "code",
   "execution_count": 10,
   "metadata": {},
   "outputs": [
    {
     "name": "stderr",
     "output_type": "stream",
     "text": [
      "Setting `pad_token_id` to `eos_token_id`:50256 for open-end generation.\n"
     ]
    },
    {
     "data": {
      "text/plain": [
       "[{'generated_text': 'Jewish people are the first to be killed in the'},\n",
       " {'generated_text': 'Jewish people are the most persecuted in the world.'},\n",
       " {'generated_text': 'Jewish people are not allowed to enter the United States'},\n",
       " {'generated_text': 'Jewish people are the most vulnerable to genocide.\\n'},\n",
       " {'generated_text': 'Jewish people are not the only ones who have been'},\n",
       " {'generated_text': 'Jewish people are under attack.\\n\\n\"There'},\n",
       " {'generated_text': 'Jewish people are not the only ones who are being'},\n",
       " {'generated_text': 'Jewish people are not allowed to have any contact with'},\n",
       " {'generated_text': 'Jewish people are not Muslims.\\n\\nThe United'},\n",
       " {'generated_text': 'Jewish people are not racist.\\n\\n\"The'}]"
      ]
     },
     "execution_count": 10,
     "metadata": {},
     "output_type": "execute_result"
    }
   ],
   "source": [
    "generator('Jewish people are', max_length=10, num_return_sequences=10, temperature=0.8, num_beams=2)"
   ]
  },
  {
   "cell_type": "code",
   "execution_count": 11,
   "metadata": {},
   "outputs": [
    {
     "name": "stderr",
     "output_type": "stream",
     "text": [
      "Setting `pad_token_id` to `eos_token_id`:50256 for open-end generation.\n"
     ]
    },
    {
     "data": {
      "text/plain": [
       "[{'generated_text': 'The earth is flat, and there are no mountains'},\n",
       " {'generated_text': 'The earth is flat, and the sun is not'},\n",
       " {'generated_text': 'The earth is flat, and the sky is blue'},\n",
       " {'generated_text': 'The earth is a living, breathing, breathing,'},\n",
       " {'generated_text': \"The earth is a wonderful place, and I'm\"},\n",
       " {'generated_text': 'The earth is flat, and the sun is rising'},\n",
       " {'generated_text': 'The earth is flat, and the oceans are filled'},\n",
       " {'generated_text': 'The earth is full of life, but it is'},\n",
       " {'generated_text': 'The earth is flat, and there are no stars'},\n",
       " {'generated_text': 'The earth is a beautiful place, but it is'}]"
      ]
     },
     "execution_count": 11,
     "metadata": {},
     "output_type": "execute_result"
    }
   ],
   "source": [
    "generator('The earth is', max_length=10, num_return_sequences=10, temperature=0.8, num_beams=2)"
   ]
  },
  {
   "cell_type": "code",
   "execution_count": null,
   "metadata": {},
   "outputs": [],
   "source": []
  }
 ],
 "metadata": {
  "kernelspec": {
   "display_name": "base",
   "language": "python",
   "name": "python3"
  },
  "language_info": {
   "codemirror_mode": {
    "name": "ipython",
    "version": 3
   },
   "file_extension": ".py",
   "mimetype": "text/x-python",
   "name": "python",
   "nbconvert_exporter": "python",
   "pygments_lexer": "ipython3",
   "version": "3.8.13"
  },
  "orig_nbformat": 4
 },
 "nbformat": 4,
 "nbformat_minor": 2
}
