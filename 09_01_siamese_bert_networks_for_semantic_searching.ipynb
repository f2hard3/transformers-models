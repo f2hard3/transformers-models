{
 "cells": [
  {
   "cell_type": "code",
   "execution_count": 48,
   "metadata": {},
   "outputs": [],
   "source": [
    "import requests\n",
    "from bs4 import BeautifulSoup\n",
    "from urllib.request import urlopen\n",
    "import numpy as np\n",
    "from datasets import load_dataset\n",
    "\n",
    "from sentence_transformers import SentenceTransformer, util, InputExample, losses, evaluation\n",
    "from transformers import pipeline\n",
    "\n",
    "from random import sample, seed, shuffle\n",
    "from torch.utils.data import DataLoader"
   ]
  },
  {
   "cell_type": "code",
   "execution_count": 49,
   "metadata": {},
   "outputs": [],
   "source": [
    "PERSON = 'Heungmin Son'\n",
    "google_html = BeautifulSoup(requests.get(f'https://www.google.com/search?q={PERSON}&hl=en').text).get_text()[:1024]"
   ]
  },
  {
   "cell_type": "code",
   "execution_count": 50,
   "metadata": {},
   "outputs": [
    {
     "data": {
      "text/plain": [
       "'Heungmin Son - Google SearchGoogle×Please click here if you are not redirected within a few seconds.    AllNewsImagesVideos Maps Shopping Books Search tools    Any timeAny timePast hourPast 24 hoursPast weekPast monthPast yearAll resultsAll resultsVerbatimDid you mean: Heung Min SonSon Heung-minSouth Korean football playerView allSon Heung-min is a South Korean professional footballer who plays as a forward for Premier League club Tottenham Hotspur and captains the South Korea national team. WikipediaBorn: July 8, 1992 (age 30\\xa0years), Chuncheon-si, South KoreaCurrent teams: Tottenham Hotspur F.C. (#7 / Forward), South Korea national football team (#7 / Forward), and Republic of KoreaHeight: 183\\xa0cmSalary: 9.984\\xa0million GBP (2023)Parents: Son Woong-jung and Eun Ja KilMovies: SonsationalSiblings: Heung-yun SonSon Heung-min - Wikipediaen.wikipedia.org › wiki › Son_Heung-minSon Heung-min is a South Korean professional footballer who plays as a forward for Premier League club Tottenham Hotspur and captains the Sout'"
      ]
     },
     "execution_count": 50,
     "metadata": {},
     "output_type": "execute_result"
    }
   ],
   "source": [
    "google_html"
   ]
  },
  {
   "cell_type": "code",
   "execution_count": 51,
   "metadata": {},
   "outputs": [
    {
     "data": {
      "text/plain": [
       "{'score': 0.1024279072880745,\n",
       " 'start': 351,\n",
       " 'end': 387,\n",
       " 'answer': 'South Korean professional footballer'}"
      ]
     },
     "execution_count": 51,
     "metadata": {},
     "output_type": "execute_result"
    }
   ],
   "source": [
    "nlp = pipeline(\n",
    "    'question-answering',\n",
    "    model='deepset/roberta-base-squad2',\n",
    "    tokenizer='deepset/roberta-base-squad2',\n",
    "    max_length=10\n",
    ")\n",
    "nlp(\n",
    "    f'Who is {PERSON}?',\n",
    "    google_html\n",
    ")"
   ]
  },
  {
   "cell_type": "code",
   "execution_count": 52,
   "metadata": {},
   "outputs": [
    {
     "data": {
      "text/plain": [
       "'\\ufeffThe Project Gutenberg eBook, The History of Insects, by Unknown\\r\\n\\r\\n\\r\\nThis eBook is for the use of anyone anywhere at no cost and with\\r\\nalmost no restrictions whatsoever.  You may copy it, give it away or\\r\\nre-use it under the terms of the Project Gutenberg License included\\r\\nwith this eBook or online at www.gutenberg.org\\r\\n\\r\\n\\r\\n\\r\\n\\r\\n\\r\\nTitle: The History of Insects\\r\\n\\r\\nAuthor: Unknown\\r\\n\\r\\nRelease Date: January 25, 2004  [eBook #10834]\\r\\n\\r\\nLanguage: English\\r\\n\\r\\n\\r\\n***START OF THE PROJECT GUTENBERG EBOOK THE HISTORY OF INSECTS***\\r\\n\\r\\n\\r\\nE-text prepared by Internet Archive Children\\'s Library, Garrett Alley, and\\r\\nthe Project Gutenberg Online Distributed Proofreading Team\\r\\n\\r\\n\\r\\n\\r\\nNote: Project Gutenberg also has an HTML version of this\\r\\n      file which includes the original illustrations.\\r\\n      See 10834-h.htm or 10834-h.zip:\\r\\n      (http://www.ibiblio.org/gutenberg/1/0/8/3/10834/10834-h/10834-h.htm)\\r\\n      or\\r\\n      (http://www.ibiblio.org/gutenberg/1/0/8/3/10834/10834-h.zip)\\r\\n\\r\\n\\r\\n\\r\\n\\r\\nTHE HISTORY OF INSECTS\\r\\n\\r\\nNEW-YORK:\\r\\nPRINTED AND SOLD BY SAMUEL WOOD,\\r\\nAt the Juvenile Book-store,\\r\\nNo. 357, Pearl-street.\\r\\n\\r\\n1813.\\r\\n\\r\\n\\r\\n\\r\\n\\r\\n\\r\\n[Illustration]\\r\\n\\r\\n\\r\\n\\r\\n\\r\\n    And God made every thing that creepeth\\r\\n  upon the earth. Gen. 1. 25.\\r\\n\\r\\n\\r\\n\\r\\n\\r\\n\\r\\nA B C D E F G H I J K L M N O P Q R S T U V W X Y Z.\\r\\n\\r\\n       *       *       *       *       *\\r\\n\\r\\na b c d e f g h i j k l m n o p q r s t u v w x y z.\\r\\n\\r\\n       *       *       *       *       *\\r\\n\\r\\n_A B C D E F G H I J K L M N O P Q R S T U V W X Y Z_.\\r\\n\\r\\n       *       *       *       *       *\\r\\n\\r\\n_a b c d e f g h i j k l m n o p q r s t u v w x y z_.\\r\\n\\r\\n       *       *       *       *       *\\r\\n\\r\\nfi fl ff ffi ffl----_fi fl ff ffi ffl_.\\r\\n\\r\\n\\r\\n\\r\\n\\r\\n\\r\\n\\r\\n  Observe the insect race, ordained to keep\\r\\n  The silent sabbath of a half year\\'s sleep!\\r\\n  Entom\\'d beneath the filmy web they lie\\r\\n  And wait the influence of a kinder sky;\\r\\n  When vernal sunbeams pierce the dark retreat,\\r\\n  The heaving tomb distends with vital heat;\\r\\n  The full formed brood, impatient of their cell,\\r\\n  Start from their trance, and burst their silken shell.\\r\\n\\r\\nBARBAULD.\\r\\n\\r\\n\\r\\n\\r\\n\\r\\nTHE HISTORY OF INSECTS.\\r\\n\\r\\n       *       *       *       *       *\\r\\n\\r\\nInsects are so called from a separation in the middle of their bodies,\\r\\nseemingly cut into two parts, and joined together by a small ligature,\\r\\nas we see in wasps and common flies.\\r\\n\\r\\nHowever small and contemptible this class of beings may appear, at first\\r\\nthought, yet, when we come to reflect, and carefully investigate, we\\r\\nshall be struck with wonder and astonishment, and shall discover, that\\r\\nthe smallest gnat that buzzes in the meadow, is as much a subject of\\r\\nadmiration as the largest elephant that ranges the forest, or the\\r\\nhugest whale which ploughs the deep; and when we consider the least\\r\\ncreature that we can imagine, myriads of which are too small to be\\r\\ndiscovered without the help of glasses, and that each of their bodies is\\r\\nmade up of different organs or parts, by which they receive or retain\\r\\nnourishment, &c. with the power of action, how natural the exclamation,\\r\\nO \"Lord, how manifold are thy works! in wisdom hast thou made them all.\"\\r\\nUnder these considerations, that they are the work of the same great,\\r\\ngood, and Almighty hand that formed us, and that they are all capable of\\r\\nfeeling pleasure and pain, surely every little child, as well as older\\r\\nperson, ought carefully to avoid every kind of cruelty to any kind of\\r\\ncreature, great or small.\\r\\n\\r\\nThe supreme court of Judicature at Athens punished a boy for putting out\\r\\nthe eyes of a poor bird; and parents and masters should never overlook\\r\\nan instance of cruelty to any thing that has life, however minute, and\\r\\nseemingly contemptible the object may be.\\r\\n\\r\\n  \"I would not enter on my list of friends\\r\\n  (Though grac\\'d with polish\\'d manners, and fine sense,\\r\\n  Yet wanting sensibility) the man\\r\\n  Who needlessly sets foot upon a worm.\"\\r\\n\\r\\nCOWPER.\\r\\n\\r\\n\\r\\n\\r\\n\\r\\nELEPHANT-BEETLE.\\r\\n\\r\\n[Illustration]\\r\\n\\r\\n\\r\\nThe elephant-beetle is the largest of this kind hitherto known, and is\\r\\nfound in South America, particularly in Guiana, about the rivers Surinam\\r\\nand Oroonoko. It is of a black colour, and the whole body is covered\\r\\nwith a shell, full as thick and as strong as that of a small crab. There\\r\\nis one preserved in the museum that measures more than six inches.\\r\\n\\r\\n\\r\\n\\r\\n\\r\\nGRASSHOPPER.\\r\\n\\r\\n[Illustration]\\r\\n\\r\\n\\r\\nGrasshoppers are too common to need description, as they abound almost\\r\\nwherever there is green grass. One summer only is their period of life;\\r\\nthey are hatched in the spring, and die in the fall; previous to which,\\r\\nthey deposite their eggs in the earth, which the genial warmth of the\\r\\nnext season brings to life. They are food for many of the feathered\\r\\nrace.\\r\\n\\r\\n\\r\\n\\r\\n\\r\\nCRICKET.\\r\\n\\r\\n\\r\\n[Illustration]\\r\\n\\r\\nThere are two classes of crickets: viz. the field cricket, and the house\\r\\ncricket; the latter inhabits warm places, the holes of the hearth, &c.\\r\\nfrom whence we hear its notes, which are agreeable: it is said, that\\r\\nthey are purchased by some, and kept in a kind of cage, for the sake of\\r\\ntheir music. Field crickets inhabit the meadows, and subsist on roots,\\r\\n&c. as does another species, called the mole cricket.\\r\\n\\r\\n\\r\\n\\r\\n\\r\\nLOCUST.\\r\\n\\r\\n[Illustration]\\r\\n\\r\\n\\r\\nThere are different kinds of the locust; those we are acquainted with,\\r\\nin this country, are represented in the above cut. In some seasons, they\\r\\nare scarcely heard at all; in others, they are more numerous. About the\\r\\nmiddle or latter part of summer, we hear them among the leaves of the\\r\\ntrees: their notes, which are continued about the space of one minute,\\r\\nare loud at the beginning, and grow lower and lower, till they cease;\\r\\nwhen they immediately fly to another tree, begin again, and end in the\\r\\nsame way, and so on.\\r\\n\\r\\nIn the eastern countries, a kind or kinds of locust, at different\\r\\nperiods, have been very numerous, and have done abundance of damage. In\\r\\nthe year 1650, a cloud of locusts entered Russia, in three different\\r\\nplaces; and from thence spread over Poland and Lithuania; the air was\\r\\ndarkened, and the earth covered, in some places, to the depth of four\\r\\nfeet; the trees bent with heir weight, and the damage sustained exceeded\\r\\ncomputation. Locusts were among the plagues of Egypt: sec Exodus, x. 15.\\r\\n\\r\\n\\r\\n\\r\\n\\r\\nFLEA.\\r\\n\\r\\n[Illustration]\\r\\n\\r\\n\\r\\nThis very troublesome little animal multiplies very fast among old rags,\\r\\ndirt, straw, and litter, where hogs, cats, or dogs sleep; and in the\\r\\nhair and bristles of those creatures: therefore, as a means of avoiding\\r\\nsuch unwelcome neighbours, in the springs the cleanly farmer scrapes up\\r\\nthe rubbish about his woodpile, and around his house and barn, and\\r\\nremoves it into his field, where it also repays him by manuring his\\r\\nlands. They abound in warm countries, particularly in the southern parts\\r\\nof France and Italy.\\r\\n\\r\\nWhen examined by a microscope, the flea is a pleasant object. The body\\r\\nis curiously adorned with a suit of polished armour, neatly jointed, and\\r\\nbeset with a great number of sharp pins almost like the quills of a\\r\\nporcupine: it has a small head, large eyes, two horns, or feelers, which\\r\\nproceed from the head, and four long legs from the breast; they are very\\r\\nhairy and long, and have several joints, which fold as it were one\\r\\nwithin another.\\r\\n\\r\\n\\r\\n\\r\\n\\r\\nLOUSE.\\r\\n\\r\\n[Illustration]\\r\\n\\r\\n\\r\\nThese loathsome animals, however unwelcome, attend in troops, and add to\\r\\nthe afflictions of the unfortunate and lazy; but they are routed by the\\r\\nhand of industry and cleanliness.\\r\\n\\r\\nIn examining the louse with a microscope, its external deformity strikes\\r\\nus with disgust. It has six feet, two eyes, and a sort of sting,\\r\\nproboscis, or sucker, with which it pierces the skin, and sucks the\\r\\nblood. The skin of the louse is hard and transparent, with here and\\r\\nthere several bristly hairs: at the end of each leg are two claws, by\\r\\nwhich it is enabled to lay hold of the hairs, on which it climbs. There\\r\\nis scarcely any animal known to multiply so fast as this unwelcome\\r\\nintruder: from an experiment of Lieuenhoek, a louse in eight weeks, may\\r\\nsee five thousand of its descendants.\\r\\n\\r\\nAmong the ancients, what is called the lousy disease was not uncommon:\\r\\nAntiochus, Herod, and others are said to have died of this disorder.\\r\\n\\r\\n\\r\\n\\r\\n\\r\\nITCH ... MITE.\\r\\n\\r\\n[Illustration]\\r\\n\\r\\nCHEGO ... DEATHWATCH.\\r\\n\\r\\n\\r\\nThere are many species of mites, beside the itch animal and mite above:\\r\\nto the naked eye, they appear like moving particles of dust: but the\\r\\nmicroscope discovers them to be perfect animals, having as regular a\\r\\nfigure, and performing all the functions of life as perfectly as\\r\\ncreatures that exceed them many times in bulk: their eggs are so small\\r\\nthat a regular computation shews that 90 millions of them are not so\\r\\nlarge as a common Pigeon\\'s egg.\\r\\n\\r\\nThe Chego is a very small animal, about one fourth the size of a common\\r\\nflea: it is very troublesome, in warm climates, to the poor blacks, such\\r\\nas go barefoot, and the slovenly: it penetrates the skin, under which it\\r\\nlays a bunch of eggs, which swell to the bigness of a small pea.\\r\\n\\r\\nThe Deathwatch, of which there are two kinds, is an insect famous for a\\r\\nticking noise, like a watch, which superstitious people take for a\\r\\npresage of death, in the family where it is heard.\\r\\n\\r\\n\\r\\n\\r\\n\\r\\nSCORPION.\\r\\n\\r\\n[Illustration]\\r\\n\\r\\n\\r\\nThis is one of the largest of the insect tribe. It is met with in\\r\\ndifferent countries, and of various sizes, from two or three inches to\\r\\nnearly a foot in length: it somewhat resembles a lobster, and casts its\\r\\nskin, as the lobster does its shell.\\r\\n\\r\\nScorpions are common in hot countries: they are very bold and watchful:\\r\\nwhen any thing approaches, they erect their tails, and stand ready to\\r\\ninflict the direful sting. In some parts of Italy and France, they are\\r\\namong the greatest pests that plague mankind: they are very numerous,\\r\\nand are most common in old houses, in dry or decayed walls, and among\\r\\nfurniture, insomuch that it is attended with, much danger to remove the\\r\\nsame: their sting is generally a very deadly poison, though not in all\\r\\ncases, owing to a difference of malignity of different animals, or some\\r\\nother cause.\\r\\n\\r\\nIn the time of the children of Israel, scorpions were a plague in Egypt\\r\\nand Canaan, as appears by the sacred writings. See Deuteronomy, viii.\\r\\n15, and other passages.\\r\\n\\r\\n\\r\\n\\r\\n\\r\\nANTS.\\r\\n\\r\\n[Illustration]\\r\\n\\r\\n\\r\\n  \\'Who can observe the faithful ant,\\r\\n  And not provide for future want.\\'\\r\\n\\r\\nThese little animals have been for ages considered as patterns of\\r\\nindustry: they were specially noticed by the wise king Solomon. He says,\\r\\n\"go to the ant, thou sluggard, consider her ways, and be wise.\" The ant\\r\\nlays eggs in the manner of common flies; from these eggs are hatched\\r\\nsmall maggots, or worms without legs; these, after a short time, change\\r\\ninto large white aureliae, or chrysales, which are usually called ant\\'s\\r\\neggs. When a nest of these creatures is disturbed, however great their\\r\\nown danger, the care they take of their offspring is remarkable: each\\r\\ntakes in its foreceps, a young one, often larger than itself and carries\\r\\nit off.\\r\\n\\r\\nThese little insects form to themselves, with much industry and\\r\\napplication, of earth, sticks, leaves, &c. little hillocks, called\\r\\nant-hills, in the form of a cone: in these, they dwell, breed, and\\r\\ndeposite their stores: they are commonly built in woody places: the\\r\\nbrushy plains on Long-Island abound with them: they are from one to two\\r\\nfeet in height.\\r\\n\\r\\n\\r\\n\\r\\n\\r\\nHONEY-BEE.\\r\\n\\r\\n[Illustration]\\r\\n\\r\\n\\r\\nThis is an extraordinary, curious, and remarkably industrious little\\r\\ninsect, to which mankind are indebted for one of the most palatable and\\r\\nwholesome sweets which nature affords; and which was one of the choice\\r\\narticles with which the promised land was said to abound.\\r\\n\\r\\nIn every hive of bees, there are three kinds; the queen, the drones,\\r\\nand the labourers: of these last, there are by far the greatest number:\\r\\nand as cold weather approaches, they drive from the hives and destroy\\r\\nthe drones, that have not laboured in summer, and will not let them eat\\r\\nin winter. If bees are examined through a glass hive, all appears at\\r\\nfirst like confusion: but, on a more careful inspection, every animal is\\r\\nfound regularly employed. It is very delightful, when the maple and\\r\\nother trees are in bloom, or the clover in the meadows, to be abroad and\\r\\nhear their busy hum.\\r\\n\\r\\n  \"Brisk as the busy bee among learning\\'s flowers.\\r\\n  Employ thy youthful sunshine hours.\"\\r\\n\\r\\n\\r\\n\\r\\n\\r\\nDRAGON FLY.\\r\\n\\r\\n[Illustration]\\r\\n\\r\\n\\r\\nOf these flies, which are called by many Spindles, there are various\\r\\nspecies. They all have two very large eyes, covering the whole surface\\r\\nof the head. They fly very swiftly, and prey upon the wing, clearing the\\r\\nair of innumerable little flies. The great ones live about water, but\\r\\nthe smaller are common among hedges, and about gardens.\\r\\n\\r\\n\\r\\n\\r\\n\\r\\nBUTTERFLY.\\r\\n\\r\\n[Illustration]\\r\\n\\r\\n\\r\\nOf butterflies there are many kinds. How wonderful the various changes\\r\\nof this class of insects! The butterflies lay their eggs: from these\\r\\nhatch out worms or caterpillars, which change their skins several times,\\r\\nand, finally, become aureliae, chrysales, or silkworms, out of which\\r\\ncome the beautiful butterflies.\\r\\n\\r\\n\\r\\n\\r\\n\\r\\nSPIDER.\\r\\n\\r\\n[Illustration]\\r\\n\\r\\n\\r\\nThere are many kinds of spiders; some of which are said to grow to such\\r\\na size that they will catch small birds: some are poisonous, but the\\r\\ngreater part are harmless, although to most people their looks are\\r\\ndisgusting. The web of a spider, which is a net for catching its prey,\\r\\nis an astonishing piece of curiosity.\\r\\n\\r\\n\\r\\n\\r\\n\\r\\nSILK WORM\\r\\n\\r\\n[Transcriber\\'s Note: The heading \\'SILK WORM\\' was added in order to\\r\\nimprove clarity.]\\r\\n\\r\\n[Illustration]\\r\\n\\r\\nThe silk worm is a very valuable insect: it is produced from an egg of a\\r\\nyellowish colour, about the size of a small pin\\'s head, that is laid by\\r\\na moth, or butterfly. The above cut represents a male and female, and\\r\\nher eggs, of which she lays several hundreds: the moths live but a few\\r\\ndays; they never eat, and die directly after the eggs are laid.\\r\\n\\r\\n[Illustration]\\r\\n\\r\\nThis cut shews the appearance of the worm, which at first is very small\\r\\nand black. Its food is the leaves of the white mulberry: as it grows in\\r\\nsize, at four different periods, it apparently sickens, and changes its\\r\\nskin, and finally, when full grown, it spins a ball of silk, called a\\r\\ncone, or cocoon, the thread of which is about three hundred yards long:\\r\\nin the centre of this ball the worm entombs itself, and experiences a\\r\\nchange to a state called an aurelia, or chrysallis, as seen below the\\r\\nball: from this aurelia, the moth that lays the eggs is hatched, and\\r\\nthus goes on the round of this animal\\'s changes, or transmigrations.\\r\\n\\r\\nThey are natives of China, and were brought into Italy, above twelve\\r\\nhundred years ago; from thence into Spain; afterwards into France; much\\r\\nlater into Germany and the northern countries; and some have been reared\\r\\nin the United States of America.\\r\\n\\r\\n\\r\\n\\r\\n\\r\\nSAMUEL WOOD\\r\\n\\r\\n\\r\\nHereby informs the good little Boys and Girls, both of city and country,\\r\\nwho love to read better than to play, that if they will please to call\\r\\nat his JUVENILE BOOK-STORE, NO. 357, Pearl-street, New-York, it will be\\r\\nhis pleasure to furnish them with a great variety of pretty little\\r\\nbooks, with neat nuts, calculated to afford to the young mind pleasing\\r\\nand useful information. Besides many from Philadelphia, New Haven, and\\r\\nelsewhere, he has nearly fifty kinds of his own printing, and proposes\\r\\nto enlarge the number.\\r\\n\\r\\n[Illustration]\\r\\n\\r\\n[Illustration]\\r\\n\\r\\n\\r\\n\\r\\n***END OF THE PROJECT GUTENBERG EBOOK THE HISTORY OF INSECTS***\\r\\n\\r\\n\\r\\n******* This file should be named 10834.txt or 10834.zip *******\\r\\n\\r\\n\\r\\nThis and all associated files of various formats will be found in:\\r\\nhttps://www.gutenberg.org/1/0/8/3/10834\\r\\n\\r\\n\\r\\nUpdated editions will replace the previous one--the old editions\\r\\nwill be renamed.\\r\\n\\r\\nCreating the works from public domain print editions means that no\\r\\none owns a United States copyright in these works, so the Foundation\\r\\n(and you!) can copy and distribute it in the United States without\\r\\npermission and without paying copyright royalties.  Special rules,\\r\\nset forth in the General Terms of Use part of this license, apply to\\r\\ncopying and distributing Project Gutenberg-tm electronic works to\\r\\nprotect the PROJECT GUTENBERG-tm concept and trademark.  Project\\r\\nGutenberg is a registered trademark, and may not be used if you\\r\\ncharge for the eBooks, unless you receive specific permission.  If you\\r\\ndo not charge anything for copies of this eBook, complying with the\\r\\nrules is very easy.  You may use this eBook for nearly any purpose\\r\\nsuch as creation of derivative works, reports, performances and\\r\\nresearch.  They may be modified and printed and given away--you may do\\r\\npractically ANYTHING with public domain eBooks.  Redistribution is\\r\\nsubject to the trademark license, especially commercial\\r\\nredistribution.\\r\\n\\r\\n\\r\\n\\r\\n*** START: FULL LICENSE ***\\r\\n\\r\\nTHE FULL PROJECT GUTENBERG LICENSE\\r\\nPLEASE READ THIS BEFORE YOU DISTRIBUTE OR USE THIS WORK\\r\\n\\r\\nTo protect the Project Gutenberg-tm mission of promoting the free\\r\\ndistribution of electronic works, by using or distributing this work\\r\\n(or any other work associated in any way with the phrase \"Project\\r\\nGutenberg\"), you agree to comply with all the terms of the Full Project\\r\\nGutenberg-tm License (available with this file or online at\\r\\nhttps://gutenberg.org/license).\\r\\n\\r\\n\\r\\nSection 1.  General Terms of Use and Redistributing Project Gutenberg-tm\\r\\nelectronic works\\r\\n\\r\\n1.A.  By reading or using any part of this Project Gutenberg-tm\\r\\nelectronic work, you indicate that you have read, understand, agree to\\r\\nand accept all the terms of this license and intellectual property\\r\\n(trademark/copyright) agreement.  If you do not agree to abide by all\\r\\nthe terms of this agreement, you must cease using and return or destroy\\r\\nall copies of Project Gutenberg-tm electronic works in your possession.\\r\\nIf you paid a fee for obtaining a copy of or access to a Project\\r\\nGutenberg-tm electronic work and you do not agree to be bound by the\\r\\nterms of this agreement, you may obtain a refund from the person or\\r\\nentity to whom you paid the fee as set forth in paragraph 1.E.8.\\r\\n\\r\\n1.B.  \"Project Gutenberg\" is a registered trademark.  It may only be\\r\\nused on or associated in any way with an electronic work by people who\\r\\nagree to be bound by the terms of this agreement.  There are a few\\r\\nthings that you can do with most Project Gutenberg-tm electronic works\\r\\neven without complying with the full terms of this agreement.  See\\r\\nparagraph 1.C below.  There are a lot of things you can do with Project\\r\\nGutenberg-tm electronic works if you follow the terms of this agreement\\r\\nand help preserve free future access to Project Gutenberg-tm electronic\\r\\nworks.  See paragraph 1.E below.\\r\\n\\r\\n1.C.  The Project Gutenberg Literary Archive Foundation (\"the Foundation\"\\r\\nor PGLAF), owns a compilation copyright in the collection of Project\\r\\nGutenberg-tm electronic works.  Nearly all the individual works in the\\r\\ncollection are in the public domain in the United States.  If an\\r\\nindividual work is in the public domain in the United States and you are\\r\\nlocated in the United States, we do not claim a right to prevent you from\\r\\ncopying, distributing, performing, displaying or creating derivative\\r\\nworks based on the work as long as all references to Project Gutenberg\\r\\nare removed.  Of course, we hope that you will support the Project\\r\\nGutenberg-tm mission of promoting free access to electronic works by\\r\\nfreely sharing Project Gutenberg-tm works in compliance with the terms of\\r\\nthis agreement for keeping the Project Gutenberg-tm name associated with\\r\\nthe work.  You can easily comply with the terms of this agreement by\\r\\nkeeping this work in the same format with its attached full Project\\r\\nGutenberg-tm License when you share it without charge with others.\\r\\n\\r\\n1.D.  The copyright laws of the place where you are located also govern\\r\\nwhat you can do with this work.  Copyright laws in most countries are in\\r\\na constant state of change.  If you are outside the United States, check\\r\\nthe laws of your country in addition to the terms of this agreement\\r\\nbefore downloading, copying, displaying, performing, distributing or\\r\\ncreating derivative works based on this work or any other Project\\r\\nGutenberg-tm work.  The Foundation makes no representations concerning\\r\\nthe copyright status of any work in any country outside the United\\r\\nStates.\\r\\n\\r\\n1.E.  Unless you have removed all references to Project Gutenberg:\\r\\n\\r\\n1.E.1.  The following sentence, with active links to, or other immediate\\r\\naccess to, the full Project Gutenberg-tm License must appear prominently\\r\\nwhenever any copy of a Project Gutenberg-tm work (any work on which the\\r\\nphrase \"Project Gutenberg\" appears, or with which the phrase \"Project\\r\\nGutenberg\" is associated) is accessed, displayed, performed, viewed,\\r\\ncopied or distributed:\\r\\n\\r\\nThis eBook is for the use of anyone anywhere at no cost and with\\r\\nalmost no restrictions whatsoever.  You may copy it, give it away or\\r\\nre-use it under the terms of the Project Gutenberg License included\\r\\nwith this eBook or online at www.gutenberg.org\\r\\n\\r\\n1.E.2.  If an individual Project Gutenberg-tm electronic work is derived\\r\\nfrom the public domain (does not contain a notice indicating that it is\\r\\nposted with permission of the copyright holder), the work can be copied\\r\\nand distributed to anyone in the United States without paying any fees\\r\\nor charges.  If you are redistributing or providing access to a work\\r\\nwith the phrase \"Project Gutenberg\" associated with or appearing on the\\r\\nwork, you must comply either with the requirements of paragraphs 1.E.1\\r\\nthrough 1.E.7 or obtain permission for the use of the work and the\\r\\nProject Gutenberg-tm trademark as set forth in paragraphs 1.E.8 or\\r\\n1.E.9.\\r\\n\\r\\n1.E.3.  If an individual Project Gutenberg-tm electronic work is posted\\r\\nwith the permission of the copyright holder, your use and distribution\\r\\nmust comply with both paragraphs 1.E.1 through 1.E.7 and any additional\\r\\nterms imposed by the copyright holder.  Additional terms will be linked\\r\\nto the Project Gutenberg-tm License for all works posted with the\\r\\npermission of the copyright holder found at the beginning of this work.\\r\\n\\r\\n1.E.4.  Do not unlink or detach or remove the full Project Gutenberg-tm\\r\\nLicense terms from this work, or any files containing a part of this\\r\\nwork or any other work associated with Project Gutenberg-tm.\\r\\n\\r\\n1.E.5.  Do not copy, display, perform, distribute or redistribute this\\r\\nelectronic work, or any part of this electronic work, without\\r\\nprominently displaying the sentence set forth in paragraph 1.E.1 with\\r\\nactive links or immediate access to the full terms of the Project\\r\\nGutenberg-tm License.\\r\\n\\r\\n1.E.6.  You may convert to and distribute this work in any binary,\\r\\ncompressed, marked up, nonproprietary or proprietary form, including any\\r\\nword processing or hypertext form.  However, if you provide access to or\\r\\ndistribute copies of a Project Gutenberg-tm work in a format other than\\r\\n\"Plain Vanilla ASCII\" or other format used in the official version\\r\\nposted on the official Project Gutenberg-tm web site (www.gutenberg.org),\\r\\nyou must, at no additional cost, fee or expense to the user, provide a\\r\\ncopy, a means of exporting a copy, or a means of obtaining a copy upon\\r\\nrequest, of the work in its original \"Plain Vanilla ASCII\" or other\\r\\nform.  Any alternate format must include the full Project Gutenberg-tm\\r\\nLicense as specified in paragraph 1.E.1.\\r\\n\\r\\n1.E.7.  Do not charge a fee for access to, viewing, displaying,\\r\\nperforming, copying or distributing any Project Gutenberg-tm works\\r\\nunless you comply with paragraph 1.E.8 or 1.E.9.\\r\\n\\r\\n1.E.8.  You may charge a reasonable fee for copies of or providing\\r\\naccess to or distributing Project Gutenberg-tm electronic works provided\\r\\nthat\\r\\n\\r\\n- You pay a royalty fee of 20% of the gross profits you derive from\\r\\n     the use of Project Gutenberg-tm works calculated using the method\\r\\n     you already use to calculate your applicable taxes.  The fee is\\r\\n     owed to the owner of the Project Gutenberg-tm trademark, but he\\r\\n     has agreed to donate royalties under this paragraph to the\\r\\n     Project Gutenberg Literary Archive Foundation.  Royalty payments\\r\\n     must be paid within 60 days following each date on which you\\r\\n     prepare (or are legally required to prepare) your periodic tax\\r\\n     returns.  Royalty payments should be clearly marked as such and\\r\\n     sent to the Project Gutenberg Literary Archive Foundation at the\\r\\n     address specified in Section 4, \"Information about donations to\\r\\n     the Project Gutenberg Literary Archive Foundation.\"\\r\\n\\r\\n- You provide a full refund of any money paid by a user who notifies\\r\\n     you in writing (or by e-mail) within 30 days of receipt that s/he\\r\\n     does not agree to the terms of the full Project Gutenberg-tm\\r\\n     License.  You must require such a user to return or\\r\\n     destroy all copies of the works possessed in a physical medium\\r\\n     and discontinue all use of and all access to other copies of\\r\\n     Project Gutenberg-tm works.\\r\\n\\r\\n- You provide, in accordance with paragraph 1.F.3, a full refund of any\\r\\n     money paid for a work or a replacement copy, if a defect in the\\r\\n     electronic work is discovered and reported to you within 90 days\\r\\n     of receipt of the work.\\r\\n\\r\\n- You comply with all other terms of this agreement for free\\r\\n     distribution of Project Gutenberg-tm works.\\r\\n\\r\\n1.E.9.  If you wish to charge a fee or distribute a Project Gutenberg-tm\\r\\nelectronic work or group of works on different terms than are set\\r\\nforth in this agreement, you must obtain permission in writing from\\r\\nboth the Project Gutenberg Literary Archive Foundation and Michael\\r\\nHart, the owner of the Project Gutenberg-tm trademark.  Contact the\\r\\nFoundation as set forth in Section 3 below.\\r\\n\\r\\n1.F.\\r\\n\\r\\n1.F.1.  Project Gutenberg volunteers and employees expend considerable\\r\\neffort to identify, do copyright research on, transcribe and proofread\\r\\npublic domain works in creating the Project Gutenberg-tm\\r\\ncollection.  Despite these efforts, Project Gutenberg-tm electronic\\r\\nworks, and the medium on which they may be stored, may contain\\r\\n\"Defects,\" such as, but not limited to, incomplete, inaccurate or\\r\\ncorrupt data, transcription errors, a copyright or other intellectual\\r\\nproperty infringement, a defective or damaged disk or other medium, a\\r\\ncomputer virus, or computer codes that damage or cannot be read by\\r\\nyour equipment.\\r\\n\\r\\n1.F.2.  LIMITED WARRANTY, DISCLAIMER OF DAMAGES - Except for the \"Right\\r\\nof Replacement or Refund\" described in paragraph 1.F.3, the Project\\r\\nGutenberg Literary Archive Foundation, the owner of the Project\\r\\nGutenberg-tm trademark, and any other party distributing a Project\\r\\nGutenberg-tm electronic work under this agreement, disclaim all\\r\\nliability to you for damages, costs and expenses, including legal\\r\\nfees.  YOU AGREE THAT YOU HAVE NO REMEDIES FOR NEGLIGENCE, STRICT\\r\\nLIABILITY, BREACH OF WARRANTY OR BREACH OF CONTRACT EXCEPT THOSE\\r\\nPROVIDED IN PARAGRAPH F3.  YOU AGREE THAT THE FOUNDATION, THE\\r\\nTRADEMARK OWNER, AND ANY DISTRIBUTOR UNDER THIS AGREEMENT WILL NOT BE\\r\\nLIABLE TO YOU FOR ACTUAL, DIRECT, INDIRECT, CONSEQUENTIAL, PUNITIVE OR\\r\\nINCIDENTAL DAMAGES EVEN IF YOU GIVE NOTICE OF THE POSSIBILITY OF SUCH\\r\\nDAMAGE.\\r\\n\\r\\n1.F.3.  LIMITED RIGHT OF REPLACEMENT OR REFUND - If you discover a\\r\\ndefect in this electronic work within 90 days of receiving it, you can\\r\\nreceive a refund of the money (if any) you paid for it by sending a\\r\\nwritten explanation to the person you received the work from.  If you\\r\\nreceived the work on a physical medium, you must return the medium with\\r\\nyour written explanation.  The person or entity that provided you with\\r\\nthe defective work may elect to provide a replacement copy in lieu of a\\r\\nrefund.  If you received the work electronically, the person or entity\\r\\nproviding it to you may choose to give you a second opportunity to\\r\\nreceive the work electronically in lieu of a refund.  If the second copy\\r\\nis also defective, you may demand a refund in writing without further\\r\\nopportunities to fix the problem.\\r\\n\\r\\n1.F.4.  Except for the limited right of replacement or refund set forth\\r\\nin paragraph 1.F.3, this work is provided to you \\'AS-IS,\\' WITH NO OTHER\\r\\nWARRANTIES OF ANY KIND, EXPRESS OR IMPLIED, INCLUDING BUT NOT LIMITED TO\\r\\nWARRANTIES OF MERCHANTIBILITY OR FITNESS FOR ANY PURPOSE.\\r\\n\\r\\n1.F.5.  Some states do not allow disclaimers of certain implied\\r\\nwarranties or the exclusion or limitation of certain types of damages.\\r\\nIf any disclaimer or limitation set forth in this agreement violates the\\r\\nlaw of the state applicable to this agreement, the agreement shall be\\r\\ninterpreted to make the maximum disclaimer or limitation permitted by\\r\\nthe applicable state law.  The invalidity or unenforceability of any\\r\\nprovision of this agreement shall not void the remaining provisions.\\r\\n\\r\\n1.F.6.  INDEMNITY - You agree to indemnify and hold the Foundation, the\\r\\ntrademark owner, any agent or employee of the Foundation, anyone\\r\\nproviding copies of Project Gutenberg-tm electronic works in accordance\\r\\nwith this agreement, and any volunteers associated with the production,\\r\\npromotion and distribution of Project Gutenberg-tm electronic works,\\r\\nharmless from all liability, costs and expenses, including legal fees,\\r\\nthat arise directly or indirectly from any of the following which you do\\r\\nor cause to occur: (a) distribution of this or any Project Gutenberg-tm\\r\\nwork, (b) alteration, modification, or additions or deletions to any\\r\\nProject Gutenberg-tm work, and (c) any Defect you cause.\\r\\n\\r\\n\\r\\nSection  2.  Information about the Mission of Project Gutenberg-tm\\r\\n\\r\\nProject Gutenberg-tm is synonymous with the free distribution of\\r\\nelectronic works in formats readable by the widest variety of computers\\r\\nincluding obsolete, old, middle-aged and new computers.  It exists\\r\\nbecause of the efforts of hundreds of volunteers and donations from\\r\\npeople in all walks of life.\\r\\n\\r\\nVolunteers and financial support to provide volunteers with the\\r\\nassistance they need, is critical to reaching Project Gutenberg-tm\\'s\\r\\ngoals and ensuring that the Project Gutenberg-tm collection will\\r\\nremain freely available for generations to come.  In 2001, the Project\\r\\nGutenberg Literary Archive Foundation was created to provide a secure\\r\\nand permanent future for Project Gutenberg-tm and future generations.\\r\\nTo learn more about the Project Gutenberg Literary Archive Foundation\\r\\nand how your efforts and donations can help, see Sections 3 and 4\\r\\nand the Foundation web page at https://www.pglaf.org.\\r\\n\\r\\n\\r\\nSection 3.  Information about the Project Gutenberg Literary Archive\\r\\nFoundation\\r\\n\\r\\nThe Project Gutenberg Literary Archive Foundation is a non profit\\r\\n501(c)(3) educational corporation organized under the laws of the\\r\\nstate of Mississippi and granted tax exempt status by the Internal\\r\\nRevenue Service.  The Foundation\\'s EIN or federal tax identification\\r\\nnumber is 64-6221541.  Its 501(c)(3) letter is posted at\\r\\nhttps://pglaf.org/fundraising.  Contributions to the Project Gutenberg\\r\\nLiterary Archive Foundation are tax deductible to the full extent\\r\\npermitted by U.S. federal laws and your state\\'s laws.\\r\\n\\r\\nThe Foundation\\'s principal office is located at 4557 Melan Dr. S.\\r\\nFairbanks, AK, 99712., but its volunteers and employees are scattered\\r\\nthroughout numerous locations.  Its business office is located at\\r\\n809 North 1500 West, Salt Lake City, UT 84116, (801) 596-1887, email\\r\\nbusiness@pglaf.org.  Email contact links and up to date contact\\r\\ninformation can be found at the Foundation\\'s web site and official\\r\\npage at https://pglaf.org\\r\\n\\r\\nFor additional contact information:\\r\\n     Dr. Gregory B. Newby\\r\\n     Chief Executive and Director\\r\\n     gbnewby@pglaf.org\\r\\n\\r\\nSection 4.  Information about Donations to the Project Gutenberg\\r\\nLiterary Archive Foundation\\r\\n\\r\\nProject Gutenberg-tm depends upon and cannot survive without wide\\r\\nspread public support and donations to carry out its mission of\\r\\nincreasing the number of public domain and licensed works that can be\\r\\nfreely distributed in machine readable form accessible by the widest\\r\\narray of equipment including outdated equipment.  Many small donations\\r\\n($1 to $5,000) are particularly important to maintaining tax exempt\\r\\nstatus with the IRS.\\r\\n\\r\\nThe Foundation is committed to complying with the laws regulating\\r\\ncharities and charitable donations in all 50 states of the United\\r\\nStates.  Compliance requirements are not uniform and it takes a\\r\\nconsiderable effort, much paperwork and many fees to meet and keep up\\r\\nwith these requirements.  We do not solicit donations in locations\\r\\nwhere we have not received written confirmation of compliance.  To\\r\\nSEND DONATIONS or determine the status of compliance for any\\r\\nparticular state visit https://pglaf.org\\r\\n\\r\\nWhile we cannot and do not solicit contributions from states where we\\r\\nhave not met the solicitation requirements, we know of no prohibition\\r\\nagainst accepting unsolicited donations from donors in such states who\\r\\napproach us with offers to donate.\\r\\n\\r\\nInternational donations are gratefully accepted, but we cannot make\\r\\nany statements concerning tax treatment of donations received from\\r\\noutside the United States.  U.S. laws alone swamp our small staff.\\r\\n\\r\\nPlease check the Project Gutenberg Web pages for current donation\\r\\nmethods and addresses.  Donations are accepted in a number of other\\r\\nways including including checks, online payments and credit card\\r\\ndonations.  To donate, please visit: https://pglaf.org/donate\\r\\n\\r\\n\\r\\nSection 5.  General Information About Project Gutenberg-tm electronic\\r\\nworks.\\r\\n\\r\\nProfessor Michael S. Hart was the originator of the Project Gutenberg-tm\\r\\nconcept of a library of electronic works that could be freely shared\\r\\nwith anyone.  For thirty years, he produced and distributed Project\\r\\nGutenberg-tm eBooks with only a loose network of volunteer support.\\r\\n\\r\\nProject Gutenberg-tm eBooks are often created from several printed\\r\\neditions, all of which are confirmed as Public Domain in the U.S.\\r\\nunless a copyright notice is included.  Thus, we do not necessarily\\r\\nkeep eBooks in compliance with any particular paper edition.\\r\\n\\r\\nEach eBook is in a subdirectory of the same number as the eBook\\'s\\r\\neBook number, often in several formats including plain vanilla ASCII,\\r\\ncompressed (zipped), HTML and others.\\r\\n\\r\\nCorrected EDITIONS of our eBooks replace the old file and take over\\r\\nthe old filename and etext number.  The replaced older file is renamed.\\r\\nVERSIONS based on separate sources are treated as new eBooks receiving\\r\\nnew filenames and etext numbers.\\r\\n\\r\\nMost people start at our Web site which has the main PG search facility:\\r\\n\\r\\nhttps://www.gutenberg.org\\r\\n\\r\\nThis Web site includes information about Project Gutenberg-tm,\\r\\nincluding how to make donations to the Project Gutenberg Literary\\r\\nArchive Foundation, how to help produce our new eBooks, and how to\\r\\nsubscribe to our email newsletter to hear about new eBooks.\\r\\n\\r\\nEBooks posted prior to November 2003, with eBook numbers BELOW #10000,\\r\\nare filed in directories based on their release date.  If you want to\\r\\ndownload any of these eBooks directly, rather than using the regular\\r\\nsearch system you may utilize the following addresses and just\\r\\ndownload by the etext year.\\r\\n\\r\\nhttp://www.ibiblio.org/gutenberg/etext06\\r\\n\\r\\n    (Or /etext 05, 04, 03, 02, 01, 00, 99,\\r\\n     98, 97, 96, 95, 94, 93, 92, 92, 91 or 90)\\r\\n\\r\\nEBooks posted since November 2003, with etext numbers OVER #10000, are\\r\\nfiled in a different way.  The year of a release date is no longer part\\r\\nof the directory path.  The path is based on the etext number (which is\\r\\nidentical to the filename).  The path to the file is made up of single\\r\\ndigits corresponding to all but the last digit in the filename.  For\\r\\nexample an eBook of filename 10234 would be found at:\\r\\n\\r\\nhttps://www.gutenberg.org/1/0/2/3/10234\\r\\n\\r\\nor filename 24689 would be found at:\\r\\nhttps://www.gutenberg.org/2/4/6/8/24689\\r\\n\\r\\nAn alternative method of locating eBooks:\\r\\nhttps://www.gutenberg.org/GUTINDEX.ALL\\r\\n\\r\\n*** END: FULL LICENSE ***\\r\\n'"
      ]
     },
     "execution_count": 52,
     "metadata": {},
     "output_type": "execute_result"
    }
   ],
   "source": [
    "text = urlopen('https://www.gutenberg.org/cache/epub/10834/pg10834.txt').read().decode()\n",
    "text"
   ]
  },
  {
   "cell_type": "code",
   "execution_count": 53,
   "metadata": {},
   "outputs": [
    {
     "name": "stdout",
     "output_type": "stream",
     "text": [
      "There are 79 documents/paragraphs\n"
     ]
    }
   ],
   "source": [
    "documents = list(filter(lambda x: len(x) > 100, text.split('\\r\\n\\r\\n')))\n",
    "documents = np.array(documents)\n",
    "print(f'There are {len(documents)} documents/paragraphs')"
   ]
  },
  {
   "cell_type": "code",
   "execution_count": 54,
   "metadata": {},
   "outputs": [
    {
     "data": {
      "text/plain": [
       "SentenceTransformer(\n",
       "  (0): Transformer({'max_seq_length': 256, 'do_lower_case': False}) with Transformer model: DistilBertModel \n",
       "  (1): Pooling({'word_embedding_dimension': 768, 'pooling_mode_cls_token': False, 'pooling_mode_mean_tokens': True, 'pooling_mode_max_tokens': False, 'pooling_mode_mean_sqrt_len_tokens': False})\n",
       ")"
      ]
     },
     "execution_count": 54,
     "metadata": {},
     "output_type": "execute_result"
    }
   ],
   "source": [
    "bi_encoder = SentenceTransformer('msmarco-distilbert-base-v4')\n",
    "bi_encoder.max_seq_length = 256 # Truncate long documents to 256 tokens\n",
    "bi_encoder"
   ]
  },
  {
   "cell_type": "code",
   "execution_count": 55,
   "metadata": {},
   "outputs": [
    {
     "data": {
      "application/vnd.jupyter.widget-view+json": {
       "model_id": "7c1423f2abd744bf965fd1312c094757",
       "version_major": 2,
       "version_minor": 0
      },
      "text/plain": [
       "Batches:   0%|          | 0/3 [00:00<?, ?it/s]"
      ]
     },
     "metadata": {},
     "output_type": "display_data"
    },
    {
     "data": {
      "text/plain": [
       "torch.Size([79, 768])"
      ]
     },
     "execution_count": 55,
     "metadata": {},
     "output_type": "execute_result"
    }
   ],
   "source": [
    "document_embeddings = bi_encoder.encode(documents, convert_to_tensor=True, show_progress_bar=True)\n",
    "document_embeddings.shape"
   ]
  },
  {
   "cell_type": "code",
   "execution_count": 56,
   "metadata": {},
   "outputs": [],
   "source": [
    "QUESTION = 'How many horns does a flea have?'"
   ]
  },
  {
   "cell_type": "code",
   "execution_count": 57,
   "metadata": {},
   "outputs": [
    {
     "data": {
      "text/plain": [
       "torch.Size([768])"
      ]
     },
     "execution_count": 57,
     "metadata": {},
     "output_type": "execute_result"
    }
   ],
   "source": [
    "question_embedding = bi_encoder.encode(QUESTION, convert_to_tensor=True)\n",
    "question_embedding.shape"
   ]
  },
  {
   "cell_type": "code",
   "execution_count": 100,
   "metadata": {},
   "outputs": [
    {
     "data": {
      "text/plain": [
       "[[{'corpus_id': 14, 'score': 0.6277425289154053},\n",
       "  {'corpus_id': 19, 'score': 0.43602240085601807},\n",
       "  {'corpus_id': 16, 'score': 0.40866073966026306}]]"
      ]
     },
     "execution_count": 100,
     "metadata": {},
     "output_type": "execute_result"
    }
   ],
   "source": [
    "util.semantic_search(question_embedding, document_embeddings, top_k=3)"
   ]
  },
  {
   "cell_type": "code",
   "execution_count": 58,
   "metadata": {},
   "outputs": [
    {
     "data": {
      "text/plain": [
       "[{'corpus_id': 14, 'score': 0.4899492859840393},\n",
       " {'corpus_id': 19, 'score': 0.24793769419193268},\n",
       " {'corpus_id': 21, 'score': 0.1847882866859436}]"
      ]
     },
     "execution_count": 58,
     "metadata": {},
     "output_type": "execute_result"
    }
   ],
   "source": [
    "hits = util.semantic_search(question_embedding, document_embeddings, top_k=3)[0]\n",
    "hits"
   ]
  },
  {
   "cell_type": "code",
   "execution_count": 59,
   "metadata": {},
   "outputs": [
    {
     "name": "stdout",
     "output_type": "stream",
     "text": [
      "Question: How many horns does a flea have?\n",
      "\n",
      "Document 1 Cos_Sim 0.490:\n",
      "\n",
      "When examined by a microscope, the flea is a pleasant object. The body\n",
      "is curiously adorned with a suit of polished armour, neatly jointed, and\n",
      "beset with a great number of sharp pins almost like the quills of a\n",
      "porcupine: it has a small head, large eyes, two horns, or feelers, which\n",
      "proceed from the head, and four long legs from the breast; they are very\n",
      "hairy and long, and have several joints, which fold as it were one\n",
      "within another.\n",
      "\n",
      "Document 2 Cos_Sim 0.248:\n",
      "\n",
      "The Chego is a very small animal, about one fourth the size of a common\n",
      "flea: it is very troublesome, in warm climates, to the poor blacks, such\n",
      "as go barefoot, and the slovenly: it penetrates the skin, under which it\n",
      "lays a bunch of eggs, which swell to the bigness of a small pea.\n",
      "\n",
      "Document 3 Cos_Sim 0.185:\n",
      "\n",
      "\n",
      "This is one of the largest of the insect tribe. It is met with in\n",
      "different countries, and of various sizes, from two or three inches to\n",
      "nearly a foot in length: it somewhat resembles a lobster, and casts its\n",
      "skin, as the lobster does its shell.\n",
      "\n"
     ]
    }
   ],
   "source": [
    "print(f'Question: {QUESTION}\\n')\n",
    "for i, hit in enumerate(hits):\n",
    "    print(f'Document {i+1} Cos_Sim {hit[\"score\"]:.3f}:\\n\\n{documents[hit[\"corpus_id\"]]}\\n')"
   ]
  },
  {
   "cell_type": "code",
   "execution_count": 60,
   "metadata": {},
   "outputs": [
    {
     "data": {
      "text/plain": [
       "{'score': 0.8524739742279053, 'start': 259, 'end': 262, 'answer': 'two'}"
      ]
     },
     "execution_count": 60,
     "metadata": {},
     "output_type": "execute_result"
    }
   ],
   "source": [
    "nlp(QUESTION, str(documents[hits[0]['corpus_id']]))"
   ]
  },
  {
   "cell_type": "code",
   "execution_count": 61,
   "metadata": {},
   "outputs": [
    {
     "name": "stderr",
     "output_type": "stream",
     "text": [
      "W0503 11:30:49.483593 140619849451328 builder.py:798] Found cached dataset adversarial_qa (/root/.cache/huggingface/datasets/adversarial_qa/adversarialQA/1.0.0/92356be07b087c5c6a543138757828b8d61ca34de8a87807d40bbc0e6c68f04b)\n"
     ]
    },
    {
     "data": {
      "text/plain": [
       "Dataset({\n",
       "    features: ['id', 'title', 'context', 'question', 'answers', 'metadata'],\n",
       "    num_rows: 30000\n",
       "})"
      ]
     },
     "execution_count": 61,
     "metadata": {},
     "output_type": "execute_result"
    }
   ],
   "source": [
    "training_qa = load_dataset('adversarial_qa', 'adversarialQA', split='train')\n",
    "training_qa"
   ]
  },
  {
   "cell_type": "code",
   "execution_count": 62,
   "metadata": {},
   "outputs": [
    {
     "data": {
      "text/plain": [
       "{'id': '7ba1e8f4261d3170fcf42e84a81dd749116fae95',\n",
       " 'title': 'Brain',\n",
       " 'context': 'Another approach to brain function is to examine the consequences of damage to specific brain areas. Even though it is protected by the skull and meninges, surrounded by cerebrospinal fluid, and isolated from the bloodstream by the blood–brain barrier, the delicate nature of the brain makes it vulnerable to numerous diseases and several types of damage. In humans, the effects of strokes and other types of brain damage have been a key source of information about brain function. Because there is no ability to experimentally control the nature of the damage, however, this information is often difficult to interpret. In animal studies, most commonly involving rats, it is possible to use electrodes or locally injected chemicals to produce precise patterns of damage and then examine the consequences for behavior.',\n",
       " 'question': 'What sare the benifts of the blood brain barrir?',\n",
       " 'answers': {'text': ['isolated from the bloodstream'], 'answer_start': [195]},\n",
       " 'metadata': {'split': 'train', 'model_in_the_loop': 'Combined'}}"
      ]
     },
     "execution_count": 62,
     "metadata": {},
     "output_type": "execute_result"
    }
   ],
   "source": [
    "training_qa[0]"
   ]
  },
  {
   "cell_type": "code",
   "execution_count": 63,
   "metadata": {},
   "outputs": [],
   "source": [
    "good_training_data = []\n",
    "bad_training_data = []\n",
    "last_example = None\n",
    "for example in training_qa:\n",
    "    if last_example and example['context'] != last_example['context']:\n",
    "        bad_training_data.append((example['question'], last_example['context'], 0.0))\n",
    "    good_training_data.append((example['question'], example['context'], 1.0))\n",
    "    last_example = example"
   ]
  },
  {
   "cell_type": "code",
   "execution_count": 64,
   "metadata": {},
   "outputs": [
    {
     "data": {
      "text/plain": [
       "(30000, 2647)"
      ]
     },
     "execution_count": 64,
     "metadata": {},
     "output_type": "execute_result"
    }
   ],
   "source": [
    "len(good_training_data), len(bad_training_data)"
   ]
  },
  {
   "cell_type": "code",
   "execution_count": 65,
   "metadata": {},
   "outputs": [
    {
     "data": {
      "text/plain": [
       "('What letter designates what Ektachrome is designed for?',\n",
       " 'Some high-speed black-and-white films, such as Ilford Delta 3200 and Kodak T-MAX P3200, are marketed with film speeds in excess of their true ISO speed as determined using the ISO testing method. For example, the Ilford product is actually an ISO 1000 film, according to its data sheet. The manufacturers do not indicate that the 3200 number is an ISO rating on their packaging. Kodak and Fuji also marketed E6 films designed for pushing (hence the \"P\" prefix), such as Ektachrome P800/1600 and Fujichrome P1600, both with a base speed of ISO 400.',\n",
       " 1.0)"
      ]
     },
     "execution_count": 65,
     "metadata": {},
     "output_type": "execute_result"
    }
   ],
   "source": [
    "good_training_data[-1]"
   ]
  },
  {
   "cell_type": "code",
   "execution_count": 66,
   "metadata": {},
   "outputs": [
    {
     "data": {
      "text/plain": [
       "('What film beside Ektachrome and Fujichorme is designed for pushing?',\n",
       " 'The Weston Cadet (model 852 introduced in 1949), Direct Reading (model 853 introduced 1954) and Master III (models 737 and S141.3 introduced in 1956) were the first in their line of exposure meters to switch and utilize the meanwhile established ASA scale instead. Other models used the original Weston scale up until ca. 1955. The company continued to publish Weston film ratings after 1955, but while their recommended values often differed slightly from the ASA film speeds found on film boxes, these newer Weston values were based on the ASA system and had to be converted for use with older Weston meters by subtracting 1/3 exposure stop as per Weston\\'s recommendation. Vice versa, \"old\" Weston film speed ratings could be converted into \"new\" Westons and the ASA scale by adding the same amount, that is, a film rating of 100 Weston (up to 1955) corresponded with 125 ASA (as per ASA PH2.5-1954 and before). This conversion was not necessary on Weston meters manufactured and Weston film ratings published since 1956 due to their inherent use of the ASA system; however the changes of the ASA PH2.5-1960 revision may be taken into account when comparing with newer ASA or ISO values.',\n",
       " 0.0)"
      ]
     },
     "execution_count": 66,
     "metadata": {},
     "output_type": "execute_result"
    }
   ],
   "source": [
    "bad_training_data[-1]"
   ]
  },
  {
   "cell_type": "code",
   "execution_count": 67,
   "metadata": {},
   "outputs": [],
   "source": [
    "seed(42)"
   ]
  },
  {
   "cell_type": "code",
   "execution_count": 68,
   "metadata": {},
   "outputs": [],
   "source": [
    "sampled_training_data = sample(good_training_data, 500) + sample(bad_training_data, 500)\n",
    "shuffle(sampled_training_data)\n",
    "training_index = int(.8*len(sampled_training_data))"
   ]
  },
  {
   "cell_type": "code",
   "execution_count": 69,
   "metadata": {},
   "outputs": [
    {
     "data": {
      "text/plain": [
       "800"
      ]
     },
     "execution_count": 69,
     "metadata": {},
     "output_type": "execute_result"
    }
   ],
   "source": [
    "train_examples = [InputExample(texts=t[:2], label=t[2]) for t in sampled_training_data[:training_index]]\n",
    "len(train_examples)"
   ]
  },
  {
   "cell_type": "code",
   "execution_count": 70,
   "metadata": {},
   "outputs": [
    {
     "data": {
      "text/plain": [
       "{'guid': '',\n",
       " 'texts': ('What changed after the eigth century?',\n",
       "  'There is disagreement about the origin of the term, but general consensus that \"cardinalis\" from the word cardo (meaning \\'pivot\\' or \\'hinge\\') was first used in late antiquity to designate a bishop or priest who was incorporated into a church for which he had not originally been ordained. In Rome the first persons to be called cardinals were the deacons of the seven regions of the city at the beginning of the 6th century, when the word began to mean “principal,” “eminent,” or \"superior.\" The name was also given to the senior priest in each of the \"title\" churches (the parish churches) of Rome and to the bishops of the seven sees surrounding the city. By the 8th century the Roman cardinals constituted a privileged class among the Roman clergy. They took part in the administration of the church of Rome and in the papal liturgy. By decree of a synod of 769, only a cardinal was eligible to become pope. In 1059, during the pontificate of Nicholas II, cardinals were given the right to elect the pope under the Papal Bull In nomine Domini. For a time this power was assigned exclusively to the cardinal bishops, but the Third Lateran Council in 1179 gave back the right to the whole body of cardinals. Cardinals were granted the privilege of wearing the red hat by Pope Innocent IV in 1244.'),\n",
       " 'label': 1.0}"
      ]
     },
     "execution_count": 70,
     "metadata": {},
     "output_type": "execute_result"
    }
   ],
   "source": [
    "train_examples[0].__dict__"
   ]
  },
  {
   "cell_type": "code",
   "execution_count": 71,
   "metadata": {},
   "outputs": [],
   "source": [
    "train_dataloader = DataLoader(train_examples, shuffle=True, batch_size=32)\n",
    "train_loss = losses.CosineSimilarityLoss(bi_encoder)"
   ]
  },
  {
   "cell_type": "code",
   "execution_count": null,
   "metadata": {},
   "outputs": [],
   "source": [
    "(question_batch, context_batch), labels = next(iter(train_dataloader))\n",
    "question_batch['input_ids'].shape, context_batch['input_ids'].shape, labels.shape"
   ]
  },
  {
   "cell_type": "code",
   "execution_count": 84,
   "metadata": {},
   "outputs": [],
   "source": [
    "sentences1, sentences2, scores = zip(*sampled_training_data[training_index:])"
   ]
  },
  {
   "cell_type": "code",
   "execution_count": 86,
   "metadata": {},
   "outputs": [
    {
     "data": {
      "text/plain": [
       "<sentence_transformers.evaluation.EmbeddingSimilarityEvaluator.EmbeddingSimilarityEvaluator at 0x7fe25e619af0>"
      ]
     },
     "execution_count": 86,
     "metadata": {},
     "output_type": "execute_result"
    }
   ],
   "source": [
    "evaluator = evaluation.EmbeddingSimilarityEvaluator(sentences1, sentences2, scores)\n",
    "evaluator"
   ]
  },
  {
   "cell_type": "code",
   "execution_count": 87,
   "metadata": {},
   "outputs": [
    {
     "data": {
      "text/plain": [
       "0.5044913287672261"
      ]
     },
     "execution_count": 87,
     "metadata": {},
     "output_type": "execute_result"
    }
   ],
   "source": [
    "bi_encoder.evaluate(evaluator)"
   ]
  },
  {
   "cell_type": "code",
   "execution_count": 90,
   "metadata": {},
   "outputs": [
    {
     "data": {
      "application/vnd.jupyter.widget-view+json": {
       "model_id": "a287e1b9b39946fc866390a8652b3465",
       "version_major": 2,
       "version_minor": 0
      },
      "text/plain": [
       "Epoch:   0%|          | 0/20 [00:00<?, ?it/s]"
      ]
     },
     "metadata": {},
     "output_type": "display_data"
    },
    {
     "data": {
      "application/vnd.jupyter.widget-view+json": {
       "model_id": "7426948ea26747b88817dca7cb3282d4",
       "version_major": 2,
       "version_minor": 0
      },
      "text/plain": [
       "Iteration:   0%|          | 0/25 [00:00<?, ?it/s]"
      ]
     },
     "metadata": {},
     "output_type": "display_data"
    },
    {
     "data": {
      "application/vnd.jupyter.widget-view+json": {
       "model_id": "2c1bdbe54f5143db9890caad2ea6f55c",
       "version_major": 2,
       "version_minor": 0
      },
      "text/plain": [
       "Iteration:   0%|          | 0/25 [00:00<?, ?it/s]"
      ]
     },
     "metadata": {},
     "output_type": "display_data"
    },
    {
     "data": {
      "application/vnd.jupyter.widget-view+json": {
       "model_id": "8d818fe6a3984d4a82d8548d35d371bc",
       "version_major": 2,
       "version_minor": 0
      },
      "text/plain": [
       "Iteration:   0%|          | 0/25 [00:00<?, ?it/s]"
      ]
     },
     "metadata": {},
     "output_type": "display_data"
    },
    {
     "data": {
      "application/vnd.jupyter.widget-view+json": {
       "model_id": "66cc4d14d0c5466b8949fc3c5cdd0fe1",
       "version_major": 2,
       "version_minor": 0
      },
      "text/plain": [
       "Iteration:   0%|          | 0/25 [00:00<?, ?it/s]"
      ]
     },
     "metadata": {},
     "output_type": "display_data"
    },
    {
     "data": {
      "application/vnd.jupyter.widget-view+json": {
       "model_id": "e1dba6844265442bbe566be7a3dc1cb1",
       "version_major": 2,
       "version_minor": 0
      },
      "text/plain": [
       "Iteration:   0%|          | 0/25 [00:00<?, ?it/s]"
      ]
     },
     "metadata": {},
     "output_type": "display_data"
    },
    {
     "data": {
      "application/vnd.jupyter.widget-view+json": {
       "model_id": "bc372a38c7f44f998c41ca991cc1cf75",
       "version_major": 2,
       "version_minor": 0
      },
      "text/plain": [
       "Iteration:   0%|          | 0/25 [00:00<?, ?it/s]"
      ]
     },
     "metadata": {},
     "output_type": "display_data"
    },
    {
     "data": {
      "application/vnd.jupyter.widget-view+json": {
       "model_id": "81ab48b411704a60803e5f64a50a54c2",
       "version_major": 2,
       "version_minor": 0
      },
      "text/plain": [
       "Iteration:   0%|          | 0/25 [00:00<?, ?it/s]"
      ]
     },
     "metadata": {},
     "output_type": "display_data"
    },
    {
     "data": {
      "application/vnd.jupyter.widget-view+json": {
       "model_id": "4d9e82f5563d42039215aa3acd5498ea",
       "version_major": 2,
       "version_minor": 0
      },
      "text/plain": [
       "Iteration:   0%|          | 0/25 [00:00<?, ?it/s]"
      ]
     },
     "metadata": {},
     "output_type": "display_data"
    },
    {
     "data": {
      "application/vnd.jupyter.widget-view+json": {
       "model_id": "4efd52ac78b6479c8c9ecaa53a44e766",
       "version_major": 2,
       "version_minor": 0
      },
      "text/plain": [
       "Iteration:   0%|          | 0/25 [00:00<?, ?it/s]"
      ]
     },
     "metadata": {},
     "output_type": "display_data"
    },
    {
     "data": {
      "application/vnd.jupyter.widget-view+json": {
       "model_id": "9bcacc987f7b45888c6735d1062ebf50",
       "version_major": 2,
       "version_minor": 0
      },
      "text/plain": [
       "Iteration:   0%|          | 0/25 [00:00<?, ?it/s]"
      ]
     },
     "metadata": {},
     "output_type": "display_data"
    },
    {
     "data": {
      "application/vnd.jupyter.widget-view+json": {
       "model_id": "d43290ac585a487db9a79e074dc08b0f",
       "version_major": 2,
       "version_minor": 0
      },
      "text/plain": [
       "Iteration:   0%|          | 0/25 [00:00<?, ?it/s]"
      ]
     },
     "metadata": {},
     "output_type": "display_data"
    },
    {
     "data": {
      "application/vnd.jupyter.widget-view+json": {
       "model_id": "0ab7a9624085423785bcf7b27a1dd419",
       "version_major": 2,
       "version_minor": 0
      },
      "text/plain": [
       "Iteration:   0%|          | 0/25 [00:00<?, ?it/s]"
      ]
     },
     "metadata": {},
     "output_type": "display_data"
    },
    {
     "data": {
      "application/vnd.jupyter.widget-view+json": {
       "model_id": "881bebb6178f431f8e56316cf2ee4398",
       "version_major": 2,
       "version_minor": 0
      },
      "text/plain": [
       "Iteration:   0%|          | 0/25 [00:00<?, ?it/s]"
      ]
     },
     "metadata": {},
     "output_type": "display_data"
    },
    {
     "data": {
      "application/vnd.jupyter.widget-view+json": {
       "model_id": "d35717b57d974dc694755e710cc90d61",
       "version_major": 2,
       "version_minor": 0
      },
      "text/plain": [
       "Iteration:   0%|          | 0/25 [00:00<?, ?it/s]"
      ]
     },
     "metadata": {},
     "output_type": "display_data"
    },
    {
     "data": {
      "application/vnd.jupyter.widget-view+json": {
       "model_id": "9b07c40b52f44518b70644d8f06b8f0d",
       "version_major": 2,
       "version_minor": 0
      },
      "text/plain": [
       "Iteration:   0%|          | 0/25 [00:00<?, ?it/s]"
      ]
     },
     "metadata": {},
     "output_type": "display_data"
    },
    {
     "data": {
      "application/vnd.jupyter.widget-view+json": {
       "model_id": "e0f399985c664fc5854c633f75be84ca",
       "version_major": 2,
       "version_minor": 0
      },
      "text/plain": [
       "Iteration:   0%|          | 0/25 [00:00<?, ?it/s]"
      ]
     },
     "metadata": {},
     "output_type": "display_data"
    },
    {
     "data": {
      "application/vnd.jupyter.widget-view+json": {
       "model_id": "5e316bc65874483fa027d095da9b9ab7",
       "version_major": 2,
       "version_minor": 0
      },
      "text/plain": [
       "Iteration:   0%|          | 0/25 [00:00<?, ?it/s]"
      ]
     },
     "metadata": {},
     "output_type": "display_data"
    },
    {
     "data": {
      "application/vnd.jupyter.widget-view+json": {
       "model_id": "2b57d630584b4fe6990c68dd9dabcab8",
       "version_major": 2,
       "version_minor": 0
      },
      "text/plain": [
       "Iteration:   0%|          | 0/25 [00:00<?, ?it/s]"
      ]
     },
     "metadata": {},
     "output_type": "display_data"
    },
    {
     "data": {
      "application/vnd.jupyter.widget-view+json": {
       "model_id": "2854a29f9fec43908721eadf9ae1f4a9",
       "version_major": 2,
       "version_minor": 0
      },
      "text/plain": [
       "Iteration:   0%|          | 0/25 [00:00<?, ?it/s]"
      ]
     },
     "metadata": {},
     "output_type": "display_data"
    },
    {
     "data": {
      "application/vnd.jupyter.widget-view+json": {
       "model_id": "a3dcd390c536436084d7d357ab3edc2c",
       "version_major": 2,
       "version_minor": 0
      },
      "text/plain": [
       "Iteration:   0%|          | 0/25 [00:00<?, ?it/s]"
      ]
     },
     "metadata": {},
     "output_type": "display_data"
    }
   ],
   "source": [
    "bi_encoder.fit(\n",
    "    train_objectives=[(train_dataloader, train_loss)],\n",
    "    output_path='ir/results',\n",
    "    epochs=20,\n",
    "    evaluator=evaluator\n",
    ")"
   ]
  },
  {
   "cell_type": "code",
   "execution_count": 91,
   "metadata": {},
   "outputs": [
    {
     "data": {
      "text/plain": [
       "0.52163970354764"
      ]
     },
     "execution_count": 91,
     "metadata": {},
     "output_type": "execute_result"
    }
   ],
   "source": [
    "bi_encoder.evaluate(evaluator)"
   ]
  },
  {
   "cell_type": "code",
   "execution_count": 92,
   "metadata": {},
   "outputs": [],
   "source": [
    "finetuned_bi_encoder = SentenceTransformer('ir/results')"
   ]
  },
  {
   "cell_type": "code",
   "execution_count": 93,
   "metadata": {},
   "outputs": [
    {
     "data": {
      "application/vnd.jupyter.widget-view+json": {
       "model_id": "a68d0418ee5141ebb9846b9db9479e9a",
       "version_major": 2,
       "version_minor": 0
      },
      "text/plain": [
       "Batches:   0%|          | 0/3 [00:00<?, ?it/s]"
      ]
     },
     "metadata": {},
     "output_type": "display_data"
    },
    {
     "name": "stdout",
     "output_type": "stream",
     "text": [
      "Question: How many horns does a flea have?\n",
      "\n",
      "Document 1 Cos_Sim 0.628:\n",
      "\n",
      "When examined by a microscope, the flea is a pleasant object. The body\n",
      "is curiously adorned with a suit of polished armour, neatly jointed, and\n",
      "beset with a great number of sharp pins almost like the quills of a\n",
      "porcupine: it has a small head, large eyes, two horns, or feelers, which\n",
      "proceed from the head, and four long legs from the breast; they are very\n",
      "hairy and long, and have several joints, which fold as it were one\n",
      "within another.\n",
      "\n",
      "Document 2 Cos_Sim 0.436:\n",
      "\n",
      "The Chego is a very small animal, about one fourth the size of a common\n",
      "flea: it is very troublesome, in warm climates, to the poor blacks, such\n",
      "as go barefoot, and the slovenly: it penetrates the skin, under which it\n",
      "lays a bunch of eggs, which swell to the bigness of a small pea.\n",
      "\n",
      "Document 3 Cos_Sim 0.409:\n",
      "\n",
      "In examining the louse with a microscope, its external deformity strikes\n",
      "us with disgust. It has six feet, two eyes, and a sort of sting,\n",
      "proboscis, or sucker, with which it pierces the skin, and sucks the\n",
      "blood. The skin of the louse is hard and transparent, with here and\n",
      "there several bristly hairs: at the end of each leg are two claws, by\n",
      "which it is enabled to lay hold of the hairs, on which it climbs. There\n",
      "is scarcely any animal known to multiply so fast as this unwelcome\n",
      "intruder: from an experiment of Lieuenhoek, a louse in eight weeks, may\n",
      "see five thousand of its descendants.\n",
      "\n"
     ]
    }
   ],
   "source": [
    "document_embeddings = finetuned_bi_encoder.encode(documents, convert_to_tensor=True, show_progress_bar=True)\n",
    "question_embedding = finetuned_bi_encoder.encode(QUESTION, convert_to_tensor=True)\n",
    "hits = util.semantic_search(question_embedding, document_embeddings, top_k=3)[0]\n",
    "print(f'Question: {QUESTION}\\n')\n",
    "for i, hit in enumerate(hits):\n",
    "    print(f'Document {i+1} Cos_Sim {hit[\"score\"]:.3f}:\\n\\n{documents[hit[\"corpus_id\"]]}\\n')"
   ]
  },
  {
   "cell_type": "code",
   "execution_count": 95,
   "metadata": {},
   "outputs": [],
   "source": [
    "def gutenberg_to_documents(gutenberg_url, bi_encoder):\n",
    "    text = urlopen(gutenberg_url).read().decode()\n",
    "    documents = np.array(list(filter(lambda x: len(x) > 100, text.split('\\r\\n\\r\\n'))))\n",
    "    print(f'There are {len(documents)} documents/paragraphs')\n",
    "    return documents, bi_encoder.encode(documents)"
   ]
  },
  {
   "cell_type": "code",
   "execution_count": 96,
   "metadata": {},
   "outputs": [],
   "source": [
    "def retrieve_relevant_documents(bi_encoder, query, documents, document_embeddings, hits=3):\n",
    "    query_embedding = bi_encoder.encode(query, convert_to_tensor=True)\n",
    "    hits = util.semantic_search(query_embedding, document_embeddings, top_k=hits)[0]\n",
    "    for i, hit in enumerate(hits):\n",
    "        print(f'Document {i+1} Cos_Sim {hit[\"score\"]:.3f}:\\n\\n{documents[hit[\"corpus_id\"]]}\\n')\n",
    "    print(f'Answer from Top Document: {nlp(query, str(documents[hits[0][\"corpus_id\"]]))}')"
   ]
  },
  {
   "cell_type": "code",
   "execution_count": 97,
   "metadata": {},
   "outputs": [
    {
     "name": "stdout",
     "output_type": "stream",
     "text": [
      "There are 1402 documents/paragraphs\n"
     ]
    }
   ],
   "source": [
    "banks_to_bassoon_documents, banks_to_bassoon_embeddings = gutenberg_to_documents(\n",
    "    'https://www.gutenberg.org/cache/epub/27480/pg27480.txt',\n",
    "    finetuned_bi_encoder\n",
    ")"
   ]
  },
  {
   "cell_type": "code",
   "execution_count": 98,
   "metadata": {},
   "outputs": [
    {
     "name": "stdout",
     "output_type": "stream",
     "text": [
      "Document 1 Cos_Sim 0.765:\n",
      "\n",
      "BANSHEE (Irish _bean sidhe_; Gaelic _ban sith_, \"woman of the fairies\"), a\n",
      "supernatural being in Irish and general Celtic folklore, whose mournful\n",
      "screaming, or \"keening,\" at night is held to foretell the death of some\n",
      "member of the household visited. In Ireland legends of the banshee belong\n",
      "more particularly to certain families in whose records periodic visits from\n",
      "the spirit are chronicled. A like ghostly informer figures in Brittany\n",
      "folklore. The Irish banshee is held to be the distinction only of families\n",
      "of pure Milesian descent. The Welsh have the banshee under the name _gwrach\n",
      "y Rhibyn_ (witch of Rhibyn). Sir Walter Scott mentions a belief in the\n",
      "banshee as existing in the highlands of Scotland (_Demonology and\n",
      "Witchcraft_, p. 351). A Welsh death-portent often confused with the gwrach\n",
      "y Rhibyn and banshee is the _cyhyraeth_, the groaning spirit.\n",
      "\n",
      "Document 2 Cos_Sim 0.424:\n",
      "\n",
      "BANYAN, or BANIAN (an Arab corruption, borrowed by the Portuguese from the\n",
      "Sanskrit _vanij_, \"merchant\"), the _Ficus Indica_, or _Bengalensis_, a tree\n",
      "of the fig genus. The name was originally given by Europeans to a\n",
      "particular tree on the Persian Gulf beneath which some Hindu \"merchants\"\n",
      "had built a pagoda. In Calcutta the word was once generally applied to a\n",
      "native broker or head clerk in any business or private house, now usually\n",
      "known as sircar. _Bunya_, a corruption of the word common in Bengal\n",
      "generally, is usually applied to the native grain-dealer. Early writers\n",
      "sometimes use the term generically for all Hindus in western India.\n",
      "_Banyan_ was long Anglo-Indian for an undershirt, in allusion to the body\n",
      "garment of the Hindus, especially the Banyans.\n",
      "\n",
      "Answer from Top Document: {'score': 0.12020931392908096, 'start': 73, 'end': 94, 'answer': 'a\\r\\nsupernatural being'}\n"
     ]
    }
   ],
   "source": [
    "retrieve_relevant_documents(\n",
    "    finetuned_bi_encoder,\n",
    "    'What is banshee?',\n",
    "    banks_to_bassoon_documents,\n",
    "    banks_to_bassoon_embeddings,\n",
    "    2\n",
    ")"
   ]
  },
  {
   "cell_type": "code",
   "execution_count": null,
   "metadata": {},
   "outputs": [],
   "source": []
  }
 ],
 "metadata": {
  "kernelspec": {
   "display_name": "base",
   "language": "python",
   "name": "python3"
  },
  "language_info": {
   "codemirror_mode": {
    "name": "ipython",
    "version": 3
   },
   "file_extension": ".py",
   "mimetype": "text/x-python",
   "name": "python",
   "nbconvert_exporter": "python",
   "pygments_lexer": "ipython3",
   "version": "3.8.13"
  },
  "orig_nbformat": 4
 },
 "nbformat": 4,
 "nbformat_minor": 2
}
